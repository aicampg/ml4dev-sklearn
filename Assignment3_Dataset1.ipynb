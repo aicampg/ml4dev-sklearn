{
  "nbformat": 4,
  "nbformat_minor": 0,
  "metadata": {
    "colab": {
      "name": "Assignment3_Dataset1.ipynb",
      "provenance": [],
      "include_colab_link": true
    },
    "kernelspec": {
      "name": "python3",
      "display_name": "Python 3"
    }
  },
  "cells": [
    {
      "cell_type": "markdown",
      "metadata": {
        "id": "view-in-github",
        "colab_type": "text"
      },
      "source": [
        "<a href=\"https://colab.research.google.com/github/aicampg/ml4dev-sklearn/blob/main/Assignment3_Dataset1.ipynb\" target=\"_parent\"><img src=\"https://colab.research.google.com/assets/colab-badge.svg\" alt=\"Open In Colab\"/></a>"
      ]
    },
    {
      "cell_type": "markdown",
      "metadata": {
        "id": "OQTla_oS3O0E"
      },
      "source": [
        "# Breast Cancer Data Set\n"
      ]
    },
    {
      "cell_type": "markdown",
      "metadata": {
        "id": "gImLytR89eol"
      },
      "source": [
        "### Import libraries\n",
        "We need to import  all the modules, functions  before using them"
      ]
    },
    {
      "cell_type": "code",
      "metadata": {
        "id": "FbWaB53I5iMP"
      },
      "source": [
        "import numpy as np\n",
        "import matplotlib.pyplot as plt\n",
        "import pandas as pd"
      ],
      "execution_count": 1,
      "outputs": []
    },
    {
      "cell_type": "code",
      "metadata": {
        "id": "_caN2j0FoR7y",
        "colab": {
          "base_uri": "https://localhost:8080/"
        },
        "outputId": "97f77506-6856-4e4d-f0b8-23805d40f9cd"
      },
      "source": [
        "from google.colab import drive\n",
        "drive.mount('/content/gdrive')"
      ],
      "execution_count": 2,
      "outputs": [
        {
          "output_type": "stream",
          "text": [
            "Mounted at /content/gdrive\n"
          ],
          "name": "stdout"
        }
      ]
    },
    {
      "cell_type": "markdown",
      "metadata": {
        "id": "823rW-QYofPU"
      },
      "source": [
        "To make sure that every single line will be  printed, even if they're in the same cell, we can use thf ollowing config:"
      ]
    },
    {
      "cell_type": "markdown",
      "metadata": {
        "id": "BNiwQChMyfln"
      },
      "source": [
        "# Importing your data\n",
        "\n",
        "After downloading the dataset files from UCI, you can either move them to the local directory you want to work in or to your Colab directory in your google drive and work on them in the cloud. The path we choose is for the latter choice. Here are the four datasets we chose to work on for this assignment:\n",
        "* **Breast Cancer Data Set**\n",
        "\n",
        "\n",
        "Life study; 286 data points (instances); 9 features (attributes)\n",
        "\n",
        "**Attribute Information:**\n",
        "\n",
        "1. **Class**: no-recurrence-events, recurrence-events\n",
        "2. **age**: 10-19, 20-29, 30-39, 40-49, 50-59, 60-69, 70-79, 80-89, 90-99.\n",
        "3. **menopause**: lt40, ge40, premeno.\n",
        "4. **tumor-size**: 0-4, 5-9, 10-14, 15-19, 20-24, 25-29, 30-34, 35-39, 40-44, 45-49, 50-54, 55-59.\n",
        "5. **inv-nodes**: 0-2, 3-5, 6-8, 9-11, 12-14, 15-17, 18-20, 21-23, 24-26, 27-29, 30-32, 33-35, 36-39.\n",
        "6. **node-caps**: yes, no.\n",
        "7. **deg-malig**: 1, 2, 3.\n",
        "8. **breast**: left, right.\n",
        "9. **breast-quad**: left-up, left-low, right-up, right-low, central.\n",
        "10. **irradiat**: yes, no.\n"
      ]
    },
    {
      "cell_type": "code",
      "metadata": {
        "id": "PLy_ycRO0_q8",
        "colab": {
          "base_uri": "https://localhost:8080/",
          "height": 414
        },
        "outputId": "8d244e50-f17d-4f12-b349-cca1215f2183"
      },
      "source": [
        "input_path = '/content/gdrive/My Drive/ML_Course/'\n",
        "\n",
        "## Working with Breast cancer dataset\n",
        "target_dataset = pd.read_csv(input_path+'breast-cancer.data', sep=',', \n",
        "                             names=[\"Class\",\"age\",\n",
        "                                    \"menopause\", \"tumor-size\",\n",
        "                                    \"inv-nodes\",\"node-caps\", \n",
        "                                    \"deg-malig\", \"breast\",\n",
        "                                    \"breast-quad\", \"irradiat\"\n",
        "                                    ])\n",
        "target_dataset.shape\n",
        "target_dataset\n",
        "\n",
        "\n"
      ],
      "execution_count": 13,
      "outputs": [
        {
          "output_type": "execute_result",
          "data": {
            "text/html": [
              "<div>\n",
              "<style scoped>\n",
              "    .dataframe tbody tr th:only-of-type {\n",
              "        vertical-align: middle;\n",
              "    }\n",
              "\n",
              "    .dataframe tbody tr th {\n",
              "        vertical-align: top;\n",
              "    }\n",
              "\n",
              "    .dataframe thead th {\n",
              "        text-align: right;\n",
              "    }\n",
              "</style>\n",
              "<table border=\"1\" class=\"dataframe\">\n",
              "  <thead>\n",
              "    <tr style=\"text-align: right;\">\n",
              "      <th></th>\n",
              "      <th>Class</th>\n",
              "      <th>age</th>\n",
              "      <th>menopause</th>\n",
              "      <th>tumor-size</th>\n",
              "      <th>inv-nodes</th>\n",
              "      <th>node-caps</th>\n",
              "      <th>deg-malig</th>\n",
              "      <th>breast</th>\n",
              "      <th>breast-quad</th>\n",
              "      <th>irradiat</th>\n",
              "    </tr>\n",
              "  </thead>\n",
              "  <tbody>\n",
              "    <tr>\n",
              "      <th>0</th>\n",
              "      <td>no-recurrence-events</td>\n",
              "      <td>30-39</td>\n",
              "      <td>premeno</td>\n",
              "      <td>30-34</td>\n",
              "      <td>0-2</td>\n",
              "      <td>no</td>\n",
              "      <td>3</td>\n",
              "      <td>left</td>\n",
              "      <td>left_low</td>\n",
              "      <td>no</td>\n",
              "    </tr>\n",
              "    <tr>\n",
              "      <th>1</th>\n",
              "      <td>no-recurrence-events</td>\n",
              "      <td>40-49</td>\n",
              "      <td>premeno</td>\n",
              "      <td>20-24</td>\n",
              "      <td>0-2</td>\n",
              "      <td>no</td>\n",
              "      <td>2</td>\n",
              "      <td>right</td>\n",
              "      <td>right_up</td>\n",
              "      <td>no</td>\n",
              "    </tr>\n",
              "    <tr>\n",
              "      <th>2</th>\n",
              "      <td>no-recurrence-events</td>\n",
              "      <td>40-49</td>\n",
              "      <td>premeno</td>\n",
              "      <td>20-24</td>\n",
              "      <td>0-2</td>\n",
              "      <td>no</td>\n",
              "      <td>2</td>\n",
              "      <td>left</td>\n",
              "      <td>left_low</td>\n",
              "      <td>no</td>\n",
              "    </tr>\n",
              "    <tr>\n",
              "      <th>3</th>\n",
              "      <td>no-recurrence-events</td>\n",
              "      <td>60-69</td>\n",
              "      <td>ge40</td>\n",
              "      <td>15-19</td>\n",
              "      <td>0-2</td>\n",
              "      <td>no</td>\n",
              "      <td>2</td>\n",
              "      <td>right</td>\n",
              "      <td>left_up</td>\n",
              "      <td>no</td>\n",
              "    </tr>\n",
              "    <tr>\n",
              "      <th>4</th>\n",
              "      <td>no-recurrence-events</td>\n",
              "      <td>40-49</td>\n",
              "      <td>premeno</td>\n",
              "      <td>0-4</td>\n",
              "      <td>0-2</td>\n",
              "      <td>no</td>\n",
              "      <td>2</td>\n",
              "      <td>right</td>\n",
              "      <td>right_low</td>\n",
              "      <td>no</td>\n",
              "    </tr>\n",
              "    <tr>\n",
              "      <th>...</th>\n",
              "      <td>...</td>\n",
              "      <td>...</td>\n",
              "      <td>...</td>\n",
              "      <td>...</td>\n",
              "      <td>...</td>\n",
              "      <td>...</td>\n",
              "      <td>...</td>\n",
              "      <td>...</td>\n",
              "      <td>...</td>\n",
              "      <td>...</td>\n",
              "    </tr>\n",
              "    <tr>\n",
              "      <th>281</th>\n",
              "      <td>recurrence-events</td>\n",
              "      <td>30-39</td>\n",
              "      <td>premeno</td>\n",
              "      <td>30-34</td>\n",
              "      <td>0-2</td>\n",
              "      <td>no</td>\n",
              "      <td>2</td>\n",
              "      <td>left</td>\n",
              "      <td>left_up</td>\n",
              "      <td>no</td>\n",
              "    </tr>\n",
              "    <tr>\n",
              "      <th>282</th>\n",
              "      <td>recurrence-events</td>\n",
              "      <td>30-39</td>\n",
              "      <td>premeno</td>\n",
              "      <td>20-24</td>\n",
              "      <td>0-2</td>\n",
              "      <td>no</td>\n",
              "      <td>3</td>\n",
              "      <td>left</td>\n",
              "      <td>left_up</td>\n",
              "      <td>yes</td>\n",
              "    </tr>\n",
              "    <tr>\n",
              "      <th>283</th>\n",
              "      <td>recurrence-events</td>\n",
              "      <td>60-69</td>\n",
              "      <td>ge40</td>\n",
              "      <td>20-24</td>\n",
              "      <td>0-2</td>\n",
              "      <td>no</td>\n",
              "      <td>1</td>\n",
              "      <td>right</td>\n",
              "      <td>left_up</td>\n",
              "      <td>no</td>\n",
              "    </tr>\n",
              "    <tr>\n",
              "      <th>284</th>\n",
              "      <td>recurrence-events</td>\n",
              "      <td>40-49</td>\n",
              "      <td>ge40</td>\n",
              "      <td>30-34</td>\n",
              "      <td>3-5</td>\n",
              "      <td>no</td>\n",
              "      <td>3</td>\n",
              "      <td>left</td>\n",
              "      <td>left_low</td>\n",
              "      <td>no</td>\n",
              "    </tr>\n",
              "    <tr>\n",
              "      <th>285</th>\n",
              "      <td>recurrence-events</td>\n",
              "      <td>50-59</td>\n",
              "      <td>ge40</td>\n",
              "      <td>30-34</td>\n",
              "      <td>3-5</td>\n",
              "      <td>no</td>\n",
              "      <td>3</td>\n",
              "      <td>left</td>\n",
              "      <td>left_low</td>\n",
              "      <td>no</td>\n",
              "    </tr>\n",
              "  </tbody>\n",
              "</table>\n",
              "<p>286 rows × 10 columns</p>\n",
              "</div>"
            ],
            "text/plain": [
              "                    Class    age menopause  ... breast breast-quad irradiat\n",
              "0    no-recurrence-events  30-39   premeno  ...   left    left_low       no\n",
              "1    no-recurrence-events  40-49   premeno  ...  right    right_up       no\n",
              "2    no-recurrence-events  40-49   premeno  ...   left    left_low       no\n",
              "3    no-recurrence-events  60-69      ge40  ...  right     left_up       no\n",
              "4    no-recurrence-events  40-49   premeno  ...  right   right_low       no\n",
              "..                    ...    ...       ...  ...    ...         ...      ...\n",
              "281     recurrence-events  30-39   premeno  ...   left     left_up       no\n",
              "282     recurrence-events  30-39   premeno  ...   left     left_up      yes\n",
              "283     recurrence-events  60-69      ge40  ...  right     left_up       no\n",
              "284     recurrence-events  40-49      ge40  ...   left    left_low       no\n",
              "285     recurrence-events  50-59      ge40  ...   left    left_low       no\n",
              "\n",
              "[286 rows x 10 columns]"
            ]
          },
          "metadata": {
            "tags": []
          },
          "execution_count": 13
        }
      ]
    },
    {
      "cell_type": "code",
      "metadata": {
        "id": "3QByqAf58dEM",
        "colab": {
          "base_uri": "https://localhost:8080/"
        },
        "outputId": "68032f03-892a-42b8-ae9d-2eb335c054bd"
      },
      "source": [
        "target_dataset.info()"
      ],
      "execution_count": 14,
      "outputs": [
        {
          "output_type": "stream",
          "text": [
            "<class 'pandas.core.frame.DataFrame'>\n",
            "RangeIndex: 286 entries, 0 to 285\n",
            "Data columns (total 10 columns):\n",
            " #   Column       Non-Null Count  Dtype \n",
            "---  ------       --------------  ----- \n",
            " 0   Class        286 non-null    object\n",
            " 1   age          286 non-null    object\n",
            " 2   menopause    286 non-null    object\n",
            " 3   tumor-size   286 non-null    object\n",
            " 4   inv-nodes    286 non-null    object\n",
            " 5   node-caps    286 non-null    object\n",
            " 6   deg-malig    286 non-null    int64 \n",
            " 7   breast       286 non-null    object\n",
            " 8   breast-quad  286 non-null    object\n",
            " 9   irradiat     286 non-null    object\n",
            "dtypes: int64(1), object(9)\n",
            "memory usage: 22.5+ KB\n"
          ],
          "name": "stdout"
        }
      ]
    },
    {
      "cell_type": "code",
      "metadata": {
        "id": "QPjPqP399kuk",
        "colab": {
          "base_uri": "https://localhost:8080/"
        },
        "outputId": "e8e9729f-efa1-43cc-d8bf-1d4cd27090fb"
      },
      "source": [
        "### Preparing data\n",
        "# converting strings in categorical features to integers\n",
        "cat_columns = target_dataset.select_dtypes(['object']).columns\n",
        "target_dataset[cat_columns] = target_dataset[cat_columns].apply(lambda x: pd.factorize(x)[0])\n",
        "\n",
        "# replace infinity values with Nans\n",
        "# Fill Nans with 0\n",
        "target_dataset = target_dataset.replace([np.inf, -np.inf], np.nan)\n",
        "target_dataset = target_dataset.fillna(0)\n",
        "target_dataset.head"
      ],
      "execution_count": 15,
      "outputs": [
        {
          "output_type": "execute_result",
          "data": {
            "text/plain": [
              "<bound method NDFrame.head of      Class  age  menopause  ...  breast  breast-quad  irradiat\n",
              "0        0    0          0  ...       0            0         0\n",
              "1        0    1          0  ...       1            1         0\n",
              "2        0    1          0  ...       0            0         0\n",
              "3        0    2          1  ...       1            2         0\n",
              "4        0    1          0  ...       1            3         0\n",
              "..     ...  ...        ...  ...     ...          ...       ...\n",
              "281      1    0          0  ...       0            2         0\n",
              "282      1    0          0  ...       0            2         1\n",
              "283      1    2          1  ...       1            2         0\n",
              "284      1    1          1  ...       0            0         0\n",
              "285      1    3          1  ...       0            0         0\n",
              "\n",
              "[286 rows x 10 columns]>"
            ]
          },
          "metadata": {
            "tags": []
          },
          "execution_count": 15
        }
      ]
    },
    {
      "cell_type": "code",
      "metadata": {
        "id": "H1rVke7zoXxM",
        "colab": {
          "base_uri": "https://localhost:8080/",
          "height": 414
        },
        "outputId": "b6745da8-bcbd-43de-d046-6887b076867d"
      },
      "source": [
        "target_dataset[cat_columns]"
      ],
      "execution_count": 18,
      "outputs": [
        {
          "output_type": "execute_result",
          "data": {
            "text/html": [
              "<div>\n",
              "<style scoped>\n",
              "    .dataframe tbody tr th:only-of-type {\n",
              "        vertical-align: middle;\n",
              "    }\n",
              "\n",
              "    .dataframe tbody tr th {\n",
              "        vertical-align: top;\n",
              "    }\n",
              "\n",
              "    .dataframe thead th {\n",
              "        text-align: right;\n",
              "    }\n",
              "</style>\n",
              "<table border=\"1\" class=\"dataframe\">\n",
              "  <thead>\n",
              "    <tr style=\"text-align: right;\">\n",
              "      <th></th>\n",
              "      <th>Class</th>\n",
              "      <th>age</th>\n",
              "      <th>menopause</th>\n",
              "      <th>tumor-size</th>\n",
              "      <th>inv-nodes</th>\n",
              "      <th>node-caps</th>\n",
              "      <th>breast</th>\n",
              "      <th>breast-quad</th>\n",
              "      <th>irradiat</th>\n",
              "    </tr>\n",
              "  </thead>\n",
              "  <tbody>\n",
              "    <tr>\n",
              "      <th>0</th>\n",
              "      <td>0</td>\n",
              "      <td>0</td>\n",
              "      <td>0</td>\n",
              "      <td>0</td>\n",
              "      <td>0</td>\n",
              "      <td>0</td>\n",
              "      <td>0</td>\n",
              "      <td>0</td>\n",
              "      <td>0</td>\n",
              "    </tr>\n",
              "    <tr>\n",
              "      <th>1</th>\n",
              "      <td>0</td>\n",
              "      <td>1</td>\n",
              "      <td>0</td>\n",
              "      <td>1</td>\n",
              "      <td>0</td>\n",
              "      <td>0</td>\n",
              "      <td>1</td>\n",
              "      <td>1</td>\n",
              "      <td>0</td>\n",
              "    </tr>\n",
              "    <tr>\n",
              "      <th>2</th>\n",
              "      <td>0</td>\n",
              "      <td>1</td>\n",
              "      <td>0</td>\n",
              "      <td>1</td>\n",
              "      <td>0</td>\n",
              "      <td>0</td>\n",
              "      <td>0</td>\n",
              "      <td>0</td>\n",
              "      <td>0</td>\n",
              "    </tr>\n",
              "    <tr>\n",
              "      <th>3</th>\n",
              "      <td>0</td>\n",
              "      <td>2</td>\n",
              "      <td>1</td>\n",
              "      <td>2</td>\n",
              "      <td>0</td>\n",
              "      <td>0</td>\n",
              "      <td>1</td>\n",
              "      <td>2</td>\n",
              "      <td>0</td>\n",
              "    </tr>\n",
              "    <tr>\n",
              "      <th>4</th>\n",
              "      <td>0</td>\n",
              "      <td>1</td>\n",
              "      <td>0</td>\n",
              "      <td>3</td>\n",
              "      <td>0</td>\n",
              "      <td>0</td>\n",
              "      <td>1</td>\n",
              "      <td>3</td>\n",
              "      <td>0</td>\n",
              "    </tr>\n",
              "    <tr>\n",
              "      <th>...</th>\n",
              "      <td>...</td>\n",
              "      <td>...</td>\n",
              "      <td>...</td>\n",
              "      <td>...</td>\n",
              "      <td>...</td>\n",
              "      <td>...</td>\n",
              "      <td>...</td>\n",
              "      <td>...</td>\n",
              "      <td>...</td>\n",
              "    </tr>\n",
              "    <tr>\n",
              "      <th>281</th>\n",
              "      <td>1</td>\n",
              "      <td>0</td>\n",
              "      <td>0</td>\n",
              "      <td>0</td>\n",
              "      <td>0</td>\n",
              "      <td>0</td>\n",
              "      <td>0</td>\n",
              "      <td>2</td>\n",
              "      <td>0</td>\n",
              "    </tr>\n",
              "    <tr>\n",
              "      <th>282</th>\n",
              "      <td>1</td>\n",
              "      <td>0</td>\n",
              "      <td>0</td>\n",
              "      <td>1</td>\n",
              "      <td>0</td>\n",
              "      <td>0</td>\n",
              "      <td>0</td>\n",
              "      <td>2</td>\n",
              "      <td>1</td>\n",
              "    </tr>\n",
              "    <tr>\n",
              "      <th>283</th>\n",
              "      <td>1</td>\n",
              "      <td>2</td>\n",
              "      <td>1</td>\n",
              "      <td>1</td>\n",
              "      <td>0</td>\n",
              "      <td>0</td>\n",
              "      <td>1</td>\n",
              "      <td>2</td>\n",
              "      <td>0</td>\n",
              "    </tr>\n",
              "    <tr>\n",
              "      <th>284</th>\n",
              "      <td>1</td>\n",
              "      <td>1</td>\n",
              "      <td>1</td>\n",
              "      <td>0</td>\n",
              "      <td>3</td>\n",
              "      <td>0</td>\n",
              "      <td>0</td>\n",
              "      <td>0</td>\n",
              "      <td>0</td>\n",
              "    </tr>\n",
              "    <tr>\n",
              "      <th>285</th>\n",
              "      <td>1</td>\n",
              "      <td>3</td>\n",
              "      <td>1</td>\n",
              "      <td>0</td>\n",
              "      <td>3</td>\n",
              "      <td>0</td>\n",
              "      <td>0</td>\n",
              "      <td>0</td>\n",
              "      <td>0</td>\n",
              "    </tr>\n",
              "  </tbody>\n",
              "</table>\n",
              "<p>286 rows × 9 columns</p>\n",
              "</div>"
            ],
            "text/plain": [
              "     Class  age  menopause  ...  breast  breast-quad  irradiat\n",
              "0        0    0          0  ...       0            0         0\n",
              "1        0    1          0  ...       1            1         0\n",
              "2        0    1          0  ...       0            0         0\n",
              "3        0    2          1  ...       1            2         0\n",
              "4        0    1          0  ...       1            3         0\n",
              "..     ...  ...        ...  ...     ...          ...       ...\n",
              "281      1    0          0  ...       0            2         0\n",
              "282      1    0          0  ...       0            2         1\n",
              "283      1    2          1  ...       1            2         0\n",
              "284      1    1          1  ...       0            0         0\n",
              "285      1    3          1  ...       0            0         0\n",
              "\n",
              "[286 rows x 9 columns]"
            ]
          },
          "metadata": {
            "tags": []
          },
          "execution_count": 18
        }
      ]
    },
    {
      "cell_type": "markdown",
      "metadata": {
        "id": "kl9Vc9qXpg5w"
      },
      "source": [
        "### Summarize the Dataset\n",
        "\n",
        "\n",
        "\n",
        "*   Dimensions of the dataset.\n",
        "*   Describtion of the dataset.\n",
        "\n",
        "  Statistical summary of all attributes.\n",
        "  \n",
        "*   Class Distribution\n",
        "\n"
      ]
    },
    {
      "cell_type": "markdown",
      "metadata": {
        "id": "nzzNwsom7gRk"
      },
      "source": [
        "**Statistical Summary**"
      ]
    },
    {
      "cell_type": "code",
      "metadata": {
        "id": "3qrwM_QBqd0X",
        "colab": {
          "base_uri": "https://localhost:8080/"
        },
        "outputId": "7f36487a-b83d-438e-9e73-37e7806883c8"
      },
      "source": [
        "# descriptions\n",
        "\n",
        "print(target_dataset.describe())"
      ],
      "execution_count": 19,
      "outputs": [
        {
          "output_type": "stream",
          "text": [
            "            Class         age   menopause  ...      breast  breast-quad    irradiat\n",
            "count  286.000000  286.000000  286.000000  ...  286.000000   286.000000  286.000000\n",
            "mean     0.297203    1.821678    0.500000  ...    0.468531     1.356643    0.237762\n",
            "std      0.457828    1.114349    0.547723  ...    0.499883     1.286396    0.426459\n",
            "min      0.000000    0.000000    0.000000  ...    0.000000     0.000000    0.000000\n",
            "25%      0.000000    1.000000    0.000000  ...    0.000000     0.000000    0.000000\n",
            "50%      0.000000    2.000000    0.000000  ...    0.000000     1.500000    0.000000\n",
            "75%      1.000000    3.000000    1.000000  ...    1.000000     2.000000    0.000000\n",
            "max      1.000000    5.000000    2.000000  ...    1.000000     5.000000    1.000000\n",
            "\n",
            "[8 rows x 10 columns]\n"
          ],
          "name": "stdout"
        }
      ]
    },
    {
      "cell_type": "code",
      "metadata": {
        "id": "6tmegtr62RTW",
        "colab": {
          "base_uri": "https://localhost:8080/",
          "height": 269
        },
        "outputId": "e64cfb73-b1a0-48cb-e789-aaf8c69870da"
      },
      "source": [
        "target_dataset.info()"
      ],
      "execution_count": null,
      "outputs": [
        {
          "output_type": "stream",
          "text": [
            "<class 'pandas.core.frame.DataFrame'>\n",
            "RangeIndex: 286 entries, 0 to 285\n",
            "Data columns (total 10 columns):\n",
            "Class          286 non-null int64\n",
            "age            286 non-null int64\n",
            "menopause      286 non-null int64\n",
            "tumor-size     286 non-null int64\n",
            "inv-nodes      286 non-null int64\n",
            "node-caps      286 non-null int64\n",
            "deg-malig      286 non-null int64\n",
            "breast         286 non-null int64\n",
            "breast-quad    286 non-null int64\n",
            "irradiat       286 non-null int64\n",
            "dtypes: int64(10)\n",
            "memory usage: 22.5 KB\n"
          ],
          "name": "stdout"
        }
      ]
    },
    {
      "cell_type": "code",
      "metadata": {
        "id": "6CNJkZ6F7vWq",
        "colab": {
          "base_uri": "https://localhost:8080/"
        },
        "outputId": "c2296fea-99b8-44af-f654-94f3faf104c6"
      },
      "source": [
        "# class distribution\n",
        "print(target_dataset.groupby('Class').size())\n",
        "#dataset.groupby('class').describe()"
      ],
      "execution_count": 20,
      "outputs": [
        {
          "output_type": "stream",
          "text": [
            "Class\n",
            "0    201\n",
            "1     85\n",
            "dtype: int64\n"
          ],
          "name": "stdout"
        }
      ]
    },
    {
      "cell_type": "code",
      "metadata": {
        "id": "SdIg4KMkI57Z",
        "colab": {
          "base_uri": "https://localhost:8080/",
          "height": 202
        },
        "outputId": "892b9a7e-82f8-47d7-c2b2-a1f3dfeaa2be"
      },
      "source": [
        "# datatype\n",
        "target_dataset.dtypes"
      ],
      "execution_count": null,
      "outputs": [
        {
          "output_type": "execute_result",
          "data": {
            "text/plain": [
              "Class          int64\n",
              "age            int64\n",
              "menopause      int64\n",
              "tumor-size     int64\n",
              "inv-nodes      int64\n",
              "node-caps      int64\n",
              "deg-malig      int64\n",
              "breast         int64\n",
              "breast-quad    int64\n",
              "irradiat       int64\n",
              "dtype: object"
            ]
          },
          "metadata": {
            "tags": []
          },
          "execution_count": 10
        }
      ]
    },
    {
      "cell_type": "markdown",
      "metadata": {
        "id": "FB03nh89Dpuk"
      },
      "source": [
        "### Data Visualization"
      ]
    },
    {
      "cell_type": "markdown",
      "metadata": {
        "id": "daAqVT55L08U"
      },
      "source": [
        "\n",
        "\n",
        "\n",
        "\n",
        "*   Univariate plots \n",
        "\n",
        "  Better understanding of each attribute.\n",
        "\n",
        "  Plots of each individual variable.\n",
        "  \n",
        "  This gives us a much clearer idea of the distribution of the input attributes. For example if variable have Gaussian distribution then we can choose algorithms that use this assumption.\n",
        "   \n",
        "*   Multivariate plots \n",
        "\n",
        "  Better understand the relationships between attributes.\n",
        "  \n",
        "  Interactions between the variables.\n",
        "  \n",
        "  Correlation between variables\n",
        "\n",
        "\n",
        "\n",
        "\n",
        "\n",
        "\n"
      ]
    },
    {
      "cell_type": "code",
      "metadata": {
        "id": "2M1SRxU78UzJ",
        "colab": {
          "base_uri": "https://localhost:8080/",
          "height": 486
        },
        "outputId": "670b9c07-9e7c-4183-b603-014e8667dca0"
      },
      "source": [
        "# two different ways of plots \n",
        "#dataset.iloc[:,:-2].hist(bins=20,figsize=(9,7),grid=False)\n",
        "target_dataset[[\"Class\",\"tumor-size\",\"age\",\"breast\"]].plot(kind='hist', subplots=True, layout=(2,2), sharex=False, sharey=False)\n",
        "plt.show()"
      ],
      "execution_count": null,
      "outputs": [
        {
          "output_type": "stream",
          "text": [
            "/usr/local/lib/python3.6/dist-packages/pandas/plotting/_matplotlib/tools.py:307: MatplotlibDeprecationWarning: \n",
            "The rowNum attribute was deprecated in Matplotlib 3.2 and will be removed two minor releases later. Use ax.get_subplotspec().rowspan.start instead.\n",
            "  layout[ax.rowNum, ax.colNum] = ax.get_visible()\n",
            "/usr/local/lib/python3.6/dist-packages/pandas/plotting/_matplotlib/tools.py:307: MatplotlibDeprecationWarning: \n",
            "The colNum attribute was deprecated in Matplotlib 3.2 and will be removed two minor releases later. Use ax.get_subplotspec().colspan.start instead.\n",
            "  layout[ax.rowNum, ax.colNum] = ax.get_visible()\n",
            "/usr/local/lib/python3.6/dist-packages/pandas/plotting/_matplotlib/tools.py:313: MatplotlibDeprecationWarning: \n",
            "The rowNum attribute was deprecated in Matplotlib 3.2 and will be removed two minor releases later. Use ax.get_subplotspec().rowspan.start instead.\n",
            "  if not layout[ax.rowNum + 1, ax.colNum]:\n",
            "/usr/local/lib/python3.6/dist-packages/pandas/plotting/_matplotlib/tools.py:313: MatplotlibDeprecationWarning: \n",
            "The colNum attribute was deprecated in Matplotlib 3.2 and will be removed two minor releases later. Use ax.get_subplotspec().colspan.start instead.\n",
            "  if not layout[ax.rowNum + 1, ax.colNum]:\n"
          ],
          "name": "stderr"
        },
        {
          "output_type": "display_data",
          "data": {
            "image/png": "[encoded data removed]",
            "text/plain": [
              "<Figure size 432x288 with 4 Axes>"
            ]
          },
          "metadata": {
            "tags": []
          }
        }
      ]
    },
    {
      "cell_type": "markdown",
      "metadata": {
        "id": "2VUpvRFbvsm2"
      },
      "source": [
        "## Building classification models\n",
        "Among the available classification methods in Python, we focus on the following five to build classification models of tissue type of the cancer cell lines in our dataset:\n",
        "\n",
        "*   **K- nearest neighbour**\n",
        "*   Logistic regression\n",
        "*   Naive Bayes\n",
        "*   Random forest\n",
        "\n",
        "\n"
      ]
    },
    {
      "cell_type": "markdown",
      "metadata": {
        "id": "Tcjuf63LLERE"
      },
      "source": [
        "### Splitting data to training and testing sets\n",
        "\n",
        "If we use one of our labeled fruit examples in the data that we use to train the classifier, we can't also use that same irish data as a test sample to also evaluate the classifier.\n",
        "\n",
        "The machine learning Algorithm needs to work well on any input sample (Training Set), any new pieces of data that we might see in the future(Test Set).\n",
        "\n",
        "\n",
        "\n",
        "To investigate performance of our model, we need to split the data to training and testing sets(validation set). This will help us to check potential overfitting in our model training.\n",
        "\n",
        "**random_state** as the name suggests, is used for initializing the internal random number generator, which will decide the splitting of data into train and test indices in your case."
      ]
    },
    {
      "cell_type": "code",
      "metadata": {
        "id": "fuPez5sILHne"
      },
      "source": [
        "from sklearn.model_selection import train_test_split\n",
        "\n",
        "X_train, X_test, y_train, y_test = train_test_split(target_dataset, target_dataset['Class'], test_size=0.30, random_state=5)\n"
      ],
      "execution_count": 21,
      "outputs": []
    },
    {
      "cell_type": "code",
      "metadata": {
        "id": "Erm_hL66Q5pI",
        "colab": {
          "base_uri": "https://localhost:8080/"
        },
        "outputId": "31016005-75cd-4724-b629-61eeb97bd855"
      },
      "source": [
        "print(f'train: {X_train.size}')\n",
        "print(f'test: {X_test.size}')"
      ],
      "execution_count": 22,
      "outputs": [
        {
          "output_type": "stream",
          "text": [
            "train: 2000\n",
            "test: 860\n"
          ],
          "name": "stdout"
        }
      ]
    },
    {
      "cell_type": "markdown",
      "metadata": {
        "id": "RXJQ0SgBRlF7"
      },
      "source": [
        "## K nearest neighbour(KNN)\n",
        "K nearest neighbour uses a distance metric like Euclidean distance to identity similarity of target data point (sample) in test or validation set to the data points (samples) in the trainign set. Then based on the user specified k, it finds the k closest points (samples) to the target data point. Afterward, it chooses the most frequent label among the k closes points (majority voting) as the class label of the target sample. The class labels can be also assigned based on weighted voting of the k closest data points to the data point."
      ]
    },
    {
      "cell_type": "code",
      "metadata": {
        "id": "opESR8PXQ7RW",
        "colab": {
          "base_uri": "https://localhost:8080/"
        },
        "outputId": "31897965-ee1a-485c-9c8e-d2433b230338"
      },
      "source": [
        "from sklearn.neighbors import KNeighborsClassifier\n",
        "\n",
        "# Initialize our classifier\n",
        "knn = KNeighborsClassifier(n_neighbors=2, weights='distance')\n",
        "\n",
        "# Fitting the model with the data\n",
        "knn.fit(X_train, y_train)"
      ],
      "execution_count": 23,
      "outputs": [
        {
          "output_type": "execute_result",
          "data": {
            "text/plain": [
              "KNeighborsClassifier(algorithm='auto', leaf_size=30, metric='minkowski',\n",
              "                     metric_params=None, n_jobs=None, n_neighbors=2, p=2,\n",
              "                     weights='distance')"
            ]
          },
          "metadata": {
            "tags": []
          },
          "execution_count": 23
        }
      ]
    },
    {
      "cell_type": "code",
      "metadata": {
        "id": "5XWwSRM6R105",
        "colab": {
          "base_uri": "https://localhost:8080/"
        },
        "outputId": "1cd77f40-f4c3-4cdf-e71b-08783e560d01"
      },
      "source": [
        "y_pred = knn.predict(X_test)\n",
        "print(y_pred)\n",
        "print(y_test.values)"
      ],
      "execution_count": 24,
      "outputs": [
        {
          "output_type": "stream",
          "text": [
            "[0 1 0 0 0 0 0 1 1 0 0 0 1 1 0 0 1 0 0 0 0 0 0 0 0 0 1 1 0 0 0 0 1 0 0 1 0\n",
            " 0 0 0 0 0 0 0 0 0 0 0 0 0 0 1 0 1 0 0 0 0 1 0 1 0 0 0 0 1 0 0 1 1 1 1 0 0\n",
            " 0 0 0 0 1 0 0 0 0 1 0 0]\n",
            "[0 1 0 0 0 0 1 0 1 0 0 0 1 1 0 0 1 0 0 0 1 0 0 0 1 0 1 1 0 0 0 0 1 0 0 1 0\n",
            " 0 1 0 0 0 0 0 0 1 0 0 0 0 0 1 0 1 1 0 0 0 1 0 1 0 0 0 0 1 1 1 1 1 1 1 0 0\n",
            " 0 0 0 1 0 1 0 1 0 1 0 0]\n"
          ],
          "name": "stdout"
        }
      ]
    },
    {
      "cell_type": "code",
      "metadata": {
        "id": "TT10jmXASEW0",
        "colab": {
          "base_uri": "https://localhost:8080/"
        },
        "outputId": "7aac1688-cf01-45f5-b461-1835fd7c6a7d"
      },
      "source": [
        "from sklearn import metrics\n",
        "\n",
        "print(\"Confusion matrix of the predictions:\\n\", metrics.confusion_matrix(y_test, y_pred))\n",
        "\n",
        "print(\"accuracy of the predictions:\", metrics.accuracy_score(y_test, y_pred))\n",
        "print(\"precision\", metrics.precision_score(y_test, y_pred, average=None))"
      ],
      "execution_count": 25,
      "outputs": [
        {
          "output_type": "stream",
          "text": [
            "Confusion matrix of the predictions:\n",
            " [[54  2]\n",
            " [11 19]]\n",
            "accuracy of the predictions: 0.8488372093023255\n",
            "precision [0.83076923 0.9047619 ]\n"
          ],
          "name": "stdout"
        }
      ]
    },
    {
      "cell_type": "code",
      "metadata": {
        "id": "Ff_8H-hb065r",
        "colab": {
          "base_uri": "https://localhost:8080/"
        },
        "outputId": "10183730-733b-4d11-ac0a-c4566bb6186f"
      },
      "source": [
        "print(\"accuracy of the predictions:\", metrics.accuracy_score(y_test, y_pred))\n",
        "print(\"blanced accuracy of the predictions:\", metrics.balanced_accuracy_score(y_test, y_pred))\n",
        "print(\"MCC of the predictions:\", metrics.matthews_corrcoef(y_test, y_pred))\n",
        "print(\"Confusion matrix of the predictions:\", metrics.confusion_matrix(y_test, y_pred))"
      ],
      "execution_count": 26,
      "outputs": [
        {
          "output_type": "stream",
          "text": [
            "accuracy of the predictions: 0.8488372093023255\n",
            "blanced accuracy of the predictions: 0.7988095238095239\n",
            "MCC of the predictions: 0.6629988059644405\n",
            "Confusion matrix of the predictions: [[54  2]\n",
            " [11 19]]\n"
          ],
          "name": "stdout"
        }
      ]
    },
    {
      "cell_type": "code",
      "metadata": {
        "id": "Zjli08Uk-RhY",
        "colab": {
          "base_uri": "https://localhost:8080/",
          "height": 296
        },
        "outputId": "268eaa38-0acd-4a2e-cce8-fafb2e5ff4ce"
      },
      "source": [
        "\n",
        "\n",
        "from sklearn.metrics import confusion_matrix\n",
        "from sklearn.utils.multiclass import unique_labels\n",
        "\n",
        "\n",
        "def plot_confusion_matrix(y_true, y_pred, classes,\n",
        "                          title=None,\n",
        "                          cmap=plt.cm.Blues):\n",
        " \n",
        "    # Compute confusion matrix\n",
        "    cm = confusion_matrix(y_true, y_pred)\n",
        "\n",
        "    fig, ax = plt.subplots()\n",
        "    im = ax.imshow(cm, interpolation='nearest', cmap=cmap)\n",
        "    ax.figure.colorbar(im, ax=ax)\n",
        "    # We want to show all ticks...\n",
        "    ax.set(xticks=np.arange(cm.shape[1]),\n",
        "           yticks=np.arange(cm.shape[0]),\n",
        "           # ... and label them with the respective list entries\n",
        "           xticklabels=classes, yticklabels=classes,\n",
        "           title=title,\n",
        "           ylabel='True label',\n",
        "           xlabel='Predicted label')\n",
        "\n",
        "    # Rotate the tick labels and set their alignment.\n",
        "    plt.setp(ax.get_xticklabels(), rotation=45, ha=\"right\",\n",
        "             rotation_mode=\"anchor\")\n",
        "\n",
        "    # Loop over data dimensions and create text annotations.\n",
        "    fmt = 'd'\n",
        "    thresh = cm.max() / 2.\n",
        "    for i in range(cm.shape[0]):\n",
        "        for j in range(cm.shape[1]):\n",
        "            ax.text(j, i, format(cm[i, j], fmt),\n",
        "                    ha=\"center\", va=\"center\",\n",
        "                    color=\"white\" if cm[i, j] > thresh else \"black\")\n",
        "    fig.tight_layout()\n",
        "    return ax\n",
        "\n",
        "\n",
        "\n",
        "# Plot non-normalized confusion matrix\n",
        "plot_confusion_matrix(y_test, y_pred, classes= target_dataset['Class'].unique(),\n",
        "                      title='Confusion matrix')\n",
        "\n",
        "plt.show()\n"
      ],
      "execution_count": 27,
      "outputs": [
        {
          "output_type": "display_data",
          "data": {
            "image/png": "[encoded data removed]",
            "text/plain": [
              "<Figure size 432x288 with 2 Axes>"
            ]
          },
          "metadata": {
            "tags": [],
            "needs_background": "light"
          }
        }
      ]
    },
    {
      "cell_type": "code",
      "metadata": {
        "id": "WOQA6HIJSy2f",
        "colab": {
          "base_uri": "https://localhost:8080/",
          "height": 294
        },
        "outputId": "077bf6d5-d7cf-4453-9895-4ff5cdf1dc86"
      },
      "source": [
        "k_range = list(range(1,20))\n",
        "scores = []\n",
        "for k in k_range:\n",
        "    knn = KNeighborsClassifier(n_neighbors=k)\n",
        "    knn.fit(X_train, y_train)\n",
        "    y_pred = knn.predict(X_test)\n",
        "    scores.append(metrics.accuracy_score(y_test, y_pred))\n",
        "    \n",
        "plt.plot(k_range, scores)\n",
        "plt.xlabel('Value of k for KNN')\n",
        "plt.ylabel('Accuracy Score')\n",
        "plt.title('Accuracy Scores for Values of k of k-Nearest-Neighbors')\n",
        "plt.show()"
      ],
      "execution_count": 28,
      "outputs": [
        {
          "output_type": "display_data",
          "data": {
            "image/png": "[encoded data removed]",
            "text/plain": [
              "<Figure size 432x288 with 1 Axes>"
            ]
          },
          "metadata": {
            "tags": [],
            "needs_background": "light"
          }
        }
      ]
    },
    {
      "cell_type": "markdown",
      "metadata": {
        "id": "DRsL_8AG5Gio"
      },
      "source": [
        "## Logistic regression\n",
        "\n"
      ]
    },
    {
      "cell_type": "code",
      "metadata": {
        "id": "74gD0HCTq46K",
        "colab": {
          "base_uri": "https://localhost:8080/"
        },
        "outputId": "155a4917-40e2-4170-ebca-928b963a8186"
      },
      "source": [
        "from sklearn.linear_model import LogisticRegression as LR\n",
        "\n",
        "# Initialize our classifier\n",
        "#logreg = LogisticRegression()\n",
        "logreg = LR()\n",
        "\n",
        "# Fitting the model with the data\n",
        "logreg.fit(X_train, y_train)\n",
        "\n",
        "# prediction in test set\n",
        "y_pred = logreg.predict(X_test)\n",
        "y_pred"
      ],
      "execution_count": 29,
      "outputs": [
        {
          "output_type": "execute_result",
          "data": {
            "text/plain": [
              "array([0, 1, 0, 0, 0, 0, 1, 0, 1, 0, 0, 0, 1, 1, 0, 0, 1, 0, 0, 0, 1, 0,\n",
              "       0, 0, 1, 0, 1, 1, 0, 0, 0, 0, 1, 0, 0, 1, 0, 0, 1, 0, 0, 0, 0, 0,\n",
              "       0, 1, 0, 0, 0, 0, 0, 1, 0, 1, 1, 0, 0, 0, 1, 0, 1, 0, 0, 0, 0, 1,\n",
              "       1, 1, 1, 1, 1, 1, 0, 0, 0, 0, 0, 1, 0, 1, 0, 1, 0, 1, 0, 0])"
            ]
          },
          "metadata": {
            "tags": []
          },
          "execution_count": 29
        }
      ]
    },
    {
      "cell_type": "code",
      "metadata": {
        "id": "ZSuig7RfPlls",
        "colab": {
          "base_uri": "https://localhost:8080/",
          "height": 438
        },
        "outputId": "c7e28b37-d430-4076-abe3-05037ff23bc2"
      },
      "source": [
        "from sklearn import metrics\n",
        "\n",
        "print(\"accuracy of the predictions:\", metrics.accuracy_score(y_test, y_pred))\n",
        "print(\"blanced accuracy of the predictions:\", metrics.balanced_accuracy_score(y_test, y_pred))\n",
        "print(\"MCC of the predictions:\", metrics.matthews_corrcoef(y_test, y_pred))\n",
        "print(\"Confusion matrix of the predictions:\", metrics.confusion_matrix(y_test, y_pred))\n",
        "print(\"Confusion matrix of the predictions:\\n\", metrics.confusion_matrix(y_test, y_pred))\n",
        "\n",
        "plot_confusion_matrix(y_test, y_pred, classes=[0,1],\n",
        "                      title='Confusion matrix')\n",
        "\n",
        "plt.show()\n"
      ],
      "execution_count": 30,
      "outputs": [
        {
          "output_type": "stream",
          "text": [
            "accuracy of the predictions: 1.0\n",
            "blanced accuracy of the predictions: 1.0\n",
            "MCC of the predictions: 1.0\n",
            "Confusion matrix of the predictions: [[56  0]\n",
            " [ 0 30]]\n",
            "Confusion matrix of the predictions:\n",
            " [[56  0]\n",
            " [ 0 30]]\n"
          ],
          "name": "stdout"
        },
        {
          "output_type": "display_data",
          "data": {
            "image/png": "[encoded data removed]",
            "text/plain": [
              "<Figure size 432x288 with 2 Axes>"
            ]
          },
          "metadata": {
            "tags": [],
            "needs_background": "light"
          }
        }
      ]
    },
    {
      "cell_type": "markdown",
      "metadata": {
        "id": "62cLiquCQdd7"
      },
      "source": [
        "# Building classification models\n",
        "\n",
        "Among the available classification methods in Python, we focus on the following five to build classification models in our dataset:\n",
        "\n",
        "* Logistic regression\n",
        "* K- nearest neighbour\n",
        "* **Naive Bayes**\n",
        "* Random forest\n",
        "\n",
        "## Naive Bayes\n"
      ]
    },
    {
      "cell_type": "code",
      "metadata": {
        "id": "7yafr4ZVP9cY"
      },
      "source": [
        "from sklearn.naive_bayes import GaussianNB\n",
        "\n",
        "# Initialize our classifier\n",
        "gnb = GaussianNB()\n",
        "\n",
        "# Train our classifier\n",
        "model = gnb.fit(X_train, y_train)"
      ],
      "execution_count": 31,
      "outputs": []
    },
    {
      "cell_type": "code",
      "metadata": {
        "id": "CQxu_bSpQ6LA",
        "colab": {
          "base_uri": "https://localhost:8080/",
          "height": 67
        },
        "outputId": "d33d1101-78c7-4b7e-c33c-fd4812ee4e25"
      },
      "source": [
        "y_pred = model.predict(X_test)\n",
        "print(y_pred)"
      ],
      "execution_count": null,
      "outputs": [
        {
          "output_type": "stream",
          "text": [
            "[0 1 0 0 0 0 1 0 1 0 0 0 1 1 0 0 1 0 0 0 1 0 0 0 1 0 1 1 0 0 0 0 1 0 0 1 0\n",
            " 0 1 0 0 0 0 0 0 1 0 0 0 0 0 1 0 1 1 0 0 0 1 0 1 0 0 0 0 1 1 1 1 1 1 1 0 0\n",
            " 0 0 0 1 0 1 0 1 0 1 0 0]\n"
          ],
          "name": "stdout"
        }
      ]
    },
    {
      "cell_type": "code",
      "metadata": {
        "id": "VpZA-bjiQ_tj",
        "colab": {
          "base_uri": "https://localhost:8080/",
          "height": 34
        },
        "outputId": "a0c2ca27-3c43-4d01-8fbc-310cfe64cd3d"
      },
      "source": [
        "gnb = GaussianNB()\n",
        "\n",
        "# Fitting the model with the data\n",
        "gnb.fit(X_train, y_train)"
      ],
      "execution_count": null,
      "outputs": [
        {
          "output_type": "execute_result",
          "data": {
            "text/plain": [
              "GaussianNB(priors=None, var_smoothing=1e-09)"
            ]
          },
          "metadata": {
            "tags": []
          },
          "execution_count": 30
        }
      ]
    },
    {
      "cell_type": "markdown",
      "metadata": {
        "id": "rMFl22-JRGYw"
      },
      "source": [
        "Testing the model on the testing set:"
      ]
    },
    {
      "cell_type": "code",
      "metadata": {
        "id": "SPN2o7qBRD7j",
        "colab": {
          "base_uri": "https://localhost:8080/",
          "height": 67
        },
        "outputId": "eda4943a-7219-460b-8869-6bba6a64afad"
      },
      "source": [
        "y_pred = model.predict(X_test)\n",
        "print(y_pred)"
      ],
      "execution_count": null,
      "outputs": [
        {
          "output_type": "stream",
          "text": [
            "[0 1 0 0 0 0 1 0 1 0 0 0 1 1 0 0 1 0 0 0 1 0 0 0 1 0 1 1 0 0 0 0 1 0 0 1 0\n",
            " 0 1 0 0 0 0 0 0 1 0 0 0 0 0 1 0 1 1 0 0 0 1 0 1 0 0 0 0 1 1 1 1 1 1 1 0 0\n",
            " 0 0 0 1 0 1 0 1 0 1 0 0]\n"
          ],
          "name": "stdout"
        }
      ]
    },
    {
      "cell_type": "code",
      "metadata": {
        "id": "Bnr5IfAlRIit",
        "colab": {
          "base_uri": "https://localhost:8080/",
          "height": 101
        },
        "outputId": "890e4648-a098-435a-aeb9-7f7a51a20fc3"
      },
      "source": [
        "print(\"accuracy of the predictions:\", metrics.accuracy_score(y_test, y_pred))\n",
        "print(\"blanced accuracy of the predictions:\", metrics.balanced_accuracy_score(y_test, y_pred))\n",
        "print(\"MCC of the predictions:\", metrics.matthews_corrcoef(y_test, y_pred))\n",
        "print(\"Confusion matrix of the predictions:\", metrics.confusion_matrix(y_test, y_pred))"
      ],
      "execution_count": null,
      "outputs": [
        {
          "output_type": "stream",
          "text": [
            "accuracy of the predictions: 1.0\n",
            "blanced accuracy of the predictions: 1.0\n",
            "MCC of the predictions: 1.0\n",
            "Confusion matrix of the predictions: [[56  0]\n",
            " [ 0 30]]\n"
          ],
          "name": "stdout"
        }
      ]
    },
    {
      "cell_type": "code",
      "metadata": {
        "id": "tCEf1we6bIcc"
      },
      "source": [
        ""
      ],
      "execution_count": null,
      "outputs": []
    },
    {
      "cell_type": "markdown",
      "metadata": {
        "id": "T18GQ3dArCsh"
      },
      "source": [
        "\n",
        "\n",
        "# Building classification models\n",
        "\n",
        "Among the available classification methods in Python, we focus on the following five to build classification models in our dataset:\n",
        "\n",
        "* Logistic regression\n",
        "* K- nearest neighbour\n",
        "* Naive Bayes\n",
        "* **Random forest**\n"
      ]
    },
    {
      "cell_type": "code",
      "metadata": {
        "id": "5bouEZY6y7kr",
        "colab": {
          "base_uri": "https://localhost:8080/",
          "height": 50
        },
        "outputId": "983fa276-2209-4e10-cafd-f732d54f6c01"
      },
      "source": [
        "from sklearn.ensemble import RandomForestClassifier\n",
        "from sklearn.datasets import make_classification\n",
        "RFclf = RandomForestClassifier(max_depth=2, random_state=0)\n",
        "RFclf.fit(X_train, y_train)\n",
        "y_pred = RFclf.predict(X_test)\n",
        "print(RFclf.feature_importances_)"
      ],
      "execution_count": null,
      "outputs": [
        {
          "output_type": "stream",
          "text": [
            "[0.57487312 0.02748206 0.00851529 0.05754837 0.08925466 0.06039606\n",
            " 0.12891534 0.00935674 0.02166158 0.02199679]\n"
          ],
          "name": "stdout"
        }
      ]
    },
    {
      "cell_type": "code",
      "metadata": {
        "id": "7Ef9rOrPzfPX",
        "colab": {
          "base_uri": "https://localhost:8080/",
          "height": 151
        },
        "outputId": "6c6b87a1-30d0-4fe7-f49f-b5f2f9f54804"
      },
      "source": [
        "print(\"accuracy of the predictions:\", metrics.accuracy_score(y_test, y_pred))\n",
        "print(\"blanced accuracy of the predictions:\", metrics.balanced_accuracy_score(y_test, y_pred))\n",
        "print(\"MCC of the predictions:\", metrics.matthews_corrcoef(y_test, y_pred))\n",
        "print(\"Confusion matrix of the predictions:\", metrics.confusion_matrix(y_test, y_pred))\n",
        "print(\"Confusion matrix of the predictions:\\n\", metrics.confusion_matrix(y_test, y_pred))\n"
      ],
      "execution_count": null,
      "outputs": [
        {
          "output_type": "stream",
          "text": [
            "accuracy of the predictions: 1.0\n",
            "blanced accuracy of the predictions: 1.0\n",
            "MCC of the predictions: 1.0\n",
            "Confusion matrix of the predictions: [[56  0]\n",
            " [ 0 30]]\n",
            "Confusion matrix of the predictions:\n",
            " [[56  0]\n",
            " [ 0 30]]\n"
          ],
          "name": "stdout"
        }
      ]
    },
    {
      "cell_type": "code",
      "metadata": {
        "id": "bag66EQ7Q-IU",
        "colab": {
          "base_uri": "https://localhost:8080/",
          "height": 381
        },
        "outputId": "fa0ad6b1-eb9e-4578-87cf-62e2c571ba3d"
      },
      "source": [
        "print(\"accuracy of the predictions:\", metrics.accuracy_score(y_test, y_pred))\n",
        "print(\"blanced accuracy of the predictions:\", metrics.balanced_accuracy_score(y_test, y_pred))\n",
        "print(\"MCC of the predictions:\", metrics.matthews_corrcoef(y_test, y_pred))\n",
        "print(\"Confusion matrix of the predictions:\", metrics.confusion_matrix(y_test, y_pred))\n",
        "plot_confusion_matrix(y_test, y_pred, classes=[0,1],\n",
        "                      title='Confusion matrix')\n",
        "\n",
        "plt.show()\n"
      ],
      "execution_count": null,
      "outputs": [
        {
          "output_type": "stream",
          "text": [
            "accuracy of the predictions: 1.0\n",
            "blanced accuracy of the predictions: 1.0\n",
            "MCC of the predictions: 1.0\n",
            "Confusion matrix of the predictions: [[56  0]\n",
            " [ 0 30]]\n"
          ],
          "name": "stdout"
        },
        {
          "output_type": "display_data",
          "data": {
            "image/png": "[encoded data removed]",
            "text/plain": [
              "<Figure size 432x288 with 2 Axes>"
            ]
          },
          "metadata": {
            "tags": []
          }
        }
      ]
    },
    {
      "cell_type": "code",
      "metadata": {
        "id": "xjT3EDe8FJ-_"
      },
      "source": [
        "from sklearn import svm\n",
        "from sklearn.model_selection import train_test_split\n",
        "\n",
        "X_train, X_test, y_train, y_test = train_test_split(target_dataset, target_dataset['Class'], test_size=0.30, random_state=5)\n",
        "\n",
        "\n",
        "#Create a svm Classifier\n",
        "clf = svm.SVC(kernel='linear') # Linear Kernel\n",
        "\n",
        "#Train the model using the training sets\n",
        "clf.fit(X_train, y_train)\n",
        "\n",
        "#Predict the response for test dataset\n",
        "y_pred = clf.predict(X_test)"
      ],
      "execution_count": 32,
      "outputs": []
    },
    {
      "cell_type": "code",
      "metadata": {
        "colab": {
          "base_uri": "https://localhost:8080/",
          "height": 403
        },
        "id": "XsGUKvOTFmks",
        "outputId": "ee6eb599-0439-4dc5-e71f-d57099d4b919"
      },
      "source": [
        "from sklearn import metrics\n",
        "print(\"accuracy of the predictions:\", metrics.accuracy_score(y_test, y_pred))\n",
        "print(\"blanced accuracy of the predictions:\", metrics.balanced_accuracy_score(y_test, y_pred))\n",
        "print(\"MCC of the predictions:\", metrics.matthews_corrcoef(y_test, y_pred))\n",
        "print(\"Confusion matrix of the predictions:\", metrics.confusion_matrix(y_test, y_pred))\n",
        "plot_confusion_matrix(y_test, y_pred, classes=[0,1],\n",
        "                      title='Confusion matrix')\n"
      ],
      "execution_count": 33,
      "outputs": [
        {
          "output_type": "stream",
          "text": [
            "accuracy of the predictions: 1.0\n",
            "blanced accuracy of the predictions: 1.0\n",
            "MCC of the predictions: 1.0\n",
            "Confusion matrix of the predictions: [[56  0]\n",
            " [ 0 30]]\n"
          ],
          "name": "stdout"
        },
        {
          "output_type": "execute_result",
          "data": {
            "text/plain": [
              "<matplotlib.axes._subplots.AxesSubplot at 0x7f709852a290>"
            ]
          },
          "metadata": {
            "tags": []
          },
          "execution_count": 33
        },
        {
          "output_type": "display_data",
          "data": {
            "image/png": "[encoded data removed]",
            "text/plain": [
              "<Figure size 432x288 with 2 Axes>"
            ]
          },
          "metadata": {
            "tags": [],
            "needs_background": "light"
          }
        }
      ]
    },
    {
      "cell_type": "code",
      "metadata": {
        "id": "pvkyqL8xFsyG"
      },
      "source": [
        "target_dataset[[\"Class\",\"tumor-size\",\"age\",\"breast\"]].plot(kind='hist', subplots=True, layout=(2,2), sharex=False, sharey=False)\n",
        "plt.show()"
      ],
      "execution_count": null,
      "outputs": []
    },
    {
      "cell_type": "code",
      "metadata": {
        "colab": {
          "base_uri": "https://localhost:8080/",
          "height": 355
        },
        "id": "7lnklT-Ogj-l",
        "outputId": "f27ca530-10ef-41ee-e876-1dec0eeb52a5"
      },
      "source": [
        "import seaborn as sns\n",
        "#sns.pairplot(target_dataset[[\"Class\",\"tumor-size\",\"age\",\"breast\"]])\n",
        "target_dataset.corr()\n"
      ],
      "execution_count": 38,
      "outputs": [
        {
          "output_type": "execute_result",
          "data": {
            "text/html": [
              "<div>\n",
              "<style scoped>\n",
              "    .dataframe tbody tr th:only-of-type {\n",
              "        vertical-align: middle;\n",
              "    }\n",
              "\n",
              "    .dataframe tbody tr th {\n",
              "        vertical-align: top;\n",
              "    }\n",
              "\n",
              "    .dataframe thead th {\n",
              "        text-align: right;\n",
              "    }\n",
              "</style>\n",
              "<table border=\"1\" class=\"dataframe\">\n",
              "  <thead>\n",
              "    <tr style=\"text-align: right;\">\n",
              "      <th></th>\n",
              "      <th>Class</th>\n",
              "      <th>age</th>\n",
              "      <th>menopause</th>\n",
              "      <th>tumor-size</th>\n",
              "      <th>inv-nodes</th>\n",
              "      <th>node-caps</th>\n",
              "      <th>deg-malig</th>\n",
              "      <th>breast</th>\n",
              "      <th>breast-quad</th>\n",
              "      <th>irradiat</th>\n",
              "    </tr>\n",
              "  </thead>\n",
              "  <tbody>\n",
              "    <tr>\n",
              "      <th>Class</th>\n",
              "      <td>1.000000</td>\n",
              "      <td>-0.102081</td>\n",
              "      <td>-0.048973</td>\n",
              "      <td>-0.116745</td>\n",
              "      <td>0.268118</td>\n",
              "      <td>0.241480</td>\n",
              "      <td>0.299400</td>\n",
              "      <td>-0.058646</td>\n",
              "      <td>-0.067409</td>\n",
              "      <td>0.193912</td>\n",
              "    </tr>\n",
              "    <tr>\n",
              "      <th>age</th>\n",
              "      <td>-0.102081</td>\n",
              "      <td>1.000000</td>\n",
              "      <td>0.526010</td>\n",
              "      <td>0.049594</td>\n",
              "      <td>-0.044820</td>\n",
              "      <td>0.062569</td>\n",
              "      <td>-0.053331</td>\n",
              "      <td>-0.051052</td>\n",
              "      <td>-0.006881</td>\n",
              "      <td>-0.124588</td>\n",
              "    </tr>\n",
              "    <tr>\n",
              "      <th>menopause</th>\n",
              "      <td>-0.048973</td>\n",
              "      <td>0.526010</td>\n",
              "      <td>1.000000</td>\n",
              "      <td>-0.057540</td>\n",
              "      <td>-0.030196</td>\n",
              "      <td>0.077626</td>\n",
              "      <td>0.008678</td>\n",
              "      <td>-0.076891</td>\n",
              "      <td>0.014940</td>\n",
              "      <td>-0.075108</td>\n",
              "    </tr>\n",
              "    <tr>\n",
              "      <th>tumor-size</th>\n",
              "      <td>-0.116745</td>\n",
              "      <td>0.049594</td>\n",
              "      <td>-0.057540</td>\n",
              "      <td>1.000000</td>\n",
              "      <td>-0.086986</td>\n",
              "      <td>-0.053786</td>\n",
              "      <td>-0.060664</td>\n",
              "      <td>0.018323</td>\n",
              "      <td>-0.093763</td>\n",
              "      <td>0.032165</td>\n",
              "    </tr>\n",
              "    <tr>\n",
              "      <th>inv-nodes</th>\n",
              "      <td>0.268118</td>\n",
              "      <td>-0.044820</td>\n",
              "      <td>-0.030196</td>\n",
              "      <td>-0.086986</td>\n",
              "      <td>1.000000</td>\n",
              "      <td>0.529805</td>\n",
              "      <td>0.297600</td>\n",
              "      <td>0.049513</td>\n",
              "      <td>-0.076632</td>\n",
              "      <td>0.347912</td>\n",
              "    </tr>\n",
              "    <tr>\n",
              "      <th>node-caps</th>\n",
              "      <td>0.241480</td>\n",
              "      <td>0.062569</td>\n",
              "      <td>0.077626</td>\n",
              "      <td>-0.053786</td>\n",
              "      <td>0.529805</td>\n",
              "      <td>1.000000</td>\n",
              "      <td>0.196549</td>\n",
              "      <td>-0.052937</td>\n",
              "      <td>-0.042297</td>\n",
              "      <td>0.380206</td>\n",
              "    </tr>\n",
              "    <tr>\n",
              "      <th>deg-malig</th>\n",
              "      <td>0.299400</td>\n",
              "      <td>-0.053331</td>\n",
              "      <td>0.008678</td>\n",
              "      <td>-0.060664</td>\n",
              "      <td>0.297600</td>\n",
              "      <td>0.196549</td>\n",
              "      <td>1.000000</td>\n",
              "      <td>-0.052861</td>\n",
              "      <td>-0.022143</td>\n",
              "      <td>0.208099</td>\n",
              "    </tr>\n",
              "    <tr>\n",
              "      <th>breast</th>\n",
              "      <td>-0.058646</td>\n",
              "      <td>-0.051052</td>\n",
              "      <td>-0.076891</td>\n",
              "      <td>0.018323</td>\n",
              "      <td>0.049513</td>\n",
              "      <td>-0.052937</td>\n",
              "      <td>-0.052861</td>\n",
              "      <td>1.000000</td>\n",
              "      <td>0.137556</td>\n",
              "      <td>0.018761</td>\n",
              "    </tr>\n",
              "    <tr>\n",
              "      <th>breast-quad</th>\n",
              "      <td>-0.067409</td>\n",
              "      <td>-0.006881</td>\n",
              "      <td>0.014940</td>\n",
              "      <td>-0.093763</td>\n",
              "      <td>-0.076632</td>\n",
              "      <td>-0.042297</td>\n",
              "      <td>-0.022143</td>\n",
              "      <td>0.137556</td>\n",
              "      <td>1.000000</td>\n",
              "      <td>-0.046382</td>\n",
              "    </tr>\n",
              "    <tr>\n",
              "      <th>irradiat</th>\n",
              "      <td>0.193912</td>\n",
              "      <td>-0.124588</td>\n",
              "      <td>-0.075108</td>\n",
              "      <td>0.032165</td>\n",
              "      <td>0.347912</td>\n",
              "      <td>0.380206</td>\n",
              "      <td>0.208099</td>\n",
              "      <td>0.018761</td>\n",
              "      <td>-0.046382</td>\n",
              "      <td>1.000000</td>\n",
              "    </tr>\n",
              "  </tbody>\n",
              "</table>\n",
              "</div>"
            ],
            "text/plain": [
              "                Class       age  menopause  ...    breast  breast-quad  irradiat\n",
              "Class        1.000000 -0.102081  -0.048973  ... -0.058646    -0.067409  0.193912\n",
              "age         -0.102081  1.000000   0.526010  ... -0.051052    -0.006881 -0.124588\n",
              "menopause   -0.048973  0.526010   1.000000  ... -0.076891     0.014940 -0.075108\n",
              "tumor-size  -0.116745  0.049594  -0.057540  ...  0.018323    -0.093763  0.032165\n",
              "inv-nodes    0.268118 -0.044820  -0.030196  ...  0.049513    -0.076632  0.347912\n",
              "node-caps    0.241480  0.062569   0.077626  ... -0.052937    -0.042297  0.380206\n",
              "deg-malig    0.299400 -0.053331   0.008678  ... -0.052861    -0.022143  0.208099\n",
              "breast      -0.058646 -0.051052  -0.076891  ...  1.000000     0.137556  0.018761\n",
              "breast-quad -0.067409 -0.006881   0.014940  ...  0.137556     1.000000 -0.046382\n",
              "irradiat     0.193912 -0.124588  -0.075108  ...  0.018761    -0.046382  1.000000\n",
              "\n",
              "[10 rows x 10 columns]"
            ]
          },
          "metadata": {
            "tags": []
          },
          "execution_count": 38
        }
      ]
    },
    {
      "cell_type": "code",
      "metadata": {
        "id": "YvoQNB_-gpvj"
      },
      "source": [
        ""
      ],
      "execution_count": null,
      "outputs": []
    }
  ]
}